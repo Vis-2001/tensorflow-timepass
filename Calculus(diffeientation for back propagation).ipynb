{
 "cells": [
  {
   "cell_type": "code",
   "execution_count": 1,
   "id": "3e3d21b8",
   "metadata": {},
   "outputs": [],
   "source": [
    "import tensorflow as tf\n",
    "import numpy as np\n",
    "import matplotlib.pyplot as plt"
   ]
  },
  {
   "cell_type": "code",
   "execution_count": 2,
   "id": "9c3775b8",
   "metadata": {},
   "outputs": [],
   "source": [
    "#to computethe backward propagation tensor must know wt all operation it has gone though such that it can easily back propagate \n",
    "#meaning all the operation performed must be remembered, to  make this possible we use a gradeianttape\n",
    "# 1st all the operations are performed under the tape and then differentiation is added to the tape\n"
   ]
  },
  {
   "cell_type": "code",
   "execution_count": 3,
   "id": "7f86ba48",
   "metadata": {},
   "outputs": [
    {
     "name": "stdout",
     "output_type": "stream",
     "text": [
      "[[-6.40662  -5.777982]]\n"
     ]
    }
   ],
   "source": [
    "w=tf.Variable(tf.random.normal((3,2)),name='vin')\n",
    "b=tf.Variable(tf.zeros(2,dtype=tf.float32),name='tin')\n",
    "x=[[1,2,3]]\n",
    "#specifying the foward propagation\n",
    "with tf.GradientTape(persistent=True) as tape:\n",
    "    y=x@w+b\n",
    "    print(y.numpy())\n",
    "    loss=tf.reduce_mean(y**2)\n",
    "#descripbing the parameter wtr to which it should be differianted with the loss amount\n",
    "[dw,db]=tape.gradient(loss,[w,b])"
   ]
  },
  {
   "cell_type": "code",
   "execution_count": 4,
   "id": "b63eb67b",
   "metadata": {},
   "outputs": [
    {
     "data": {
      "text/plain": [
       "<tf.Tensor: shape=(3, 2), dtype=float32, numpy=\n",
       "array([[ -6.40662 ,  -5.777982],\n",
       "       [-12.81324 , -11.555964],\n",
       "       [-19.21986 , -17.333946]], dtype=float32)>"
      ]
     },
     "execution_count": 4,
     "metadata": {},
     "output_type": "execute_result"
    }
   ],
   "source": [
    "dw"
   ]
  },
  {
   "cell_type": "code",
   "execution_count": 5,
   "id": "a7d7c83d",
   "metadata": {},
   "outputs": [
    {
     "data": {
      "text/plain": [
       "array([[ -6.40662 ,  -5.777982],\n",
       "       [-12.81324 , -11.555964],\n",
       "       [-19.21986 , -17.333946]], dtype=float32)"
      ]
     },
     "execution_count": 5,
     "metadata": {},
     "output_type": "execute_result"
    }
   ],
   "source": [
    "dw.numpy()"
   ]
  },
  {
   "cell_type": "code",
   "execution_count": 6,
   "id": "f4bd993f",
   "metadata": {},
   "outputs": [
    {
     "data": {
      "text/plain": [
       "array([[-96.099304, -86.66974 ]], dtype=float32)"
      ]
     },
     "execution_count": 6,
     "metadata": {},
     "output_type": "execute_result"
    }
   ],
   "source": [
    "(x@dw+db).numpy()"
   ]
  },
  {
   "cell_type": "code",
   "execution_count": 7,
   "id": "ee8bebdd",
   "metadata": {},
   "outputs": [
    {
     "name": "stdout",
     "output_type": "stream",
     "text": [
      "[]\n",
      "[[0.44414532 0.06830034]]\n"
     ]
    }
   ],
   "source": [
    "#working with layers\n",
    "layer=tf.keras.layers.Dense(2,activation='sigmoid')\n",
    "x=tf.constant([[1,2,3]],dtype=tf.float32)\n",
    "print(layer.trainable_variables)\n",
    "with tf.GradientTape(persistent=True) as tape:\n",
    "    y=layer(x)\n",
    "    print(y.numpy())\n",
    "    loss=tf.reduce_mean(y**2)\n",
    "grad=tape.gradient(loss,layer.trainable_variables)"
   ]
  },
  {
   "cell_type": "code",
   "execution_count": 8,
   "id": "6f1edc90",
   "metadata": {},
   "outputs": [
    {
     "name": "stdout",
     "output_type": "stream",
     "text": [
      "dense/kernel:0 [[0.10965072 0.00434632]\n",
      " [0.21930143 0.00869264]\n",
      " [0.32895213 0.01303896]]\n",
      "dense/bias:0 [0.10965072 0.00434632]\n"
     ]
    }
   ],
   "source": [
    "for var,gra in zip(layer.trainable_variables,grad):\n",
    "    print(f'{var.name} {gra.numpy()}')"
   ]
  },
  {
   "cell_type": "code",
   "execution_count": 9,
   "id": "f749ea54",
   "metadata": {},
   "outputs": [
    {
     "name": "stdout",
     "output_type": "stream",
     "text": [
      "<tf.Variable 'dense/kernel:0' shape=(3, 2) dtype=float32, numpy=\n",
      "array([[-0.30945623,  0.7921095 ],\n",
      "       [ 0.8597169 , -0.21270597],\n",
      "       [-0.5447776 , -0.9932643 ]], dtype=float32)>\n",
      "<tf.Variable 'dense/bias:0' shape=(2,) dtype=float32, numpy=array([0., 0.], dtype=float32)>\n"
     ]
    }
   ],
   "source": [
    "#prints all the variables it has worked or changed values upon\n",
    "#note that we cannot change constant tensor values hence only variables are seen\n",
    "for var in tape.watched_variables():\n",
    "    print(var)"
   ]
  },
  {
   "cell_type": "code",
   "execution_count": 14,
   "id": "eb4e1b9a",
   "metadata": {},
   "outputs": [],
   "source": [
    "#to make the tape look on a particular variable use tape.watch(tensor)\n",
    "with tf.GradientTape(persistent=True) as tp:\n",
    "    tp.watch(x)\n",
    "    y=x**3\n",
    "    z=y*2\n",
    "gra=tp.gradient(y,x)"
   ]
  },
  {
   "cell_type": "code",
   "execution_count": 15,
   "id": "fba2ef7c",
   "metadata": {},
   "outputs": [
    {
     "data": {
      "text/plain": [
       "<tf.Tensor: shape=(1, 3), dtype=float32, numpy=array([[ 3., 12., 27.]], dtype=float32)>"
      ]
     },
     "execution_count": 15,
     "metadata": {},
     "output_type": "execute_result"
    }
   ],
   "source": [
    "gra"
   ]
  },
  {
   "cell_type": "code",
   "execution_count": 16,
   "id": "f07365ee",
   "metadata": {},
   "outputs": [],
   "source": [
    "#reference to the tape is deleted\n",
    "del tape"
   ]
  },
  {
   "cell_type": "code",
   "execution_count": null,
   "id": "b0b09733",
   "metadata": {},
   "outputs": [],
   "source": []
  }
 ],
 "metadata": {
  "kernelspec": {
   "display_name": "Python 3 (ipykernel)",
   "language": "python",
   "name": "python3"
  },
  "language_info": {
   "codemirror_mode": {
    "name": "ipython",
    "version": 3
   },
   "file_extension": ".py",
   "mimetype": "text/x-python",
   "name": "python",
   "nbconvert_exporter": "python",
   "pygments_lexer": "ipython3",
   "version": "3.9.7"
  }
 },
 "nbformat": 4,
 "nbformat_minor": 5
}
