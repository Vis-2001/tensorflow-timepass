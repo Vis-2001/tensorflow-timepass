{
 "cells": [
  {
   "cell_type": "code",
   "execution_count": 14,
   "id": "3e00e33c",
   "metadata": {},
   "outputs": [],
   "source": [
    "import tensorflow as tf\n",
    "import numpy as np"
   ]
  },
  {
   "cell_type": "code",
   "execution_count": 6,
   "id": "3c274a3c",
   "metadata": {},
   "outputs": [],
   "source": [
    "#tensor: basic unit on which tensor flow works on tensor is nothing but a n dimentional array\n",
    "# tf.constant tensors are immutable hence there values cannot be changed\n",
    "\n",
    "arr=[[1.,2.,3.],[4.,5.,6.]]"
   ]
  },
  {
   "cell_type": "code",
   "execution_count": 7,
   "id": "f0e64efb",
   "metadata": {},
   "outputs": [],
   "source": [
    "tensor= tf.constant(arr)\n",
    "#can set custome dtype by tf.constant(arr,dtype=tf.float16)"
   ]
  },
  {
   "cell_type": "code",
   "execution_count": 8,
   "id": "b1e62397",
   "metadata": {},
   "outputs": [
    {
     "data": {
      "text/plain": [
       "<tf.Tensor: shape=(2, 3), dtype=float32, numpy=\n",
       "array([[1., 2., 3.],\n",
       "       [4., 5., 6.]], dtype=float32)>"
      ]
     },
     "execution_count": 8,
     "metadata": {},
     "output_type": "execute_result"
    }
   ],
   "source": [
    "tensor\n"
   ]
  },
  {
   "cell_type": "code",
   "execution_count": 10,
   "id": "573fcebb",
   "metadata": {},
   "outputs": [
    {
     "data": {
      "text/plain": [
       "TensorShape([2, 3])"
      ]
     },
     "execution_count": 10,
     "metadata": {},
     "output_type": "execute_result"
    }
   ],
   "source": [
    "#tensor has 2 attributes dtype and shape\n",
    "tensor.dtype\n",
    "tensor.shape"
   ]
  },
  {
   "cell_type": "code",
   "execution_count": 11,
   "id": "4169b84d",
   "metadata": {},
   "outputs": [
    {
     "data": {
      "text/plain": [
       "<tf.Tensor: shape=(2, 3), dtype=float32, numpy=\n",
       "array([[ 5., 10., 15.],\n",
       "       [20., 25., 30.]], dtype=float32)>"
      ]
     },
     "execution_count": 11,
     "metadata": {},
     "output_type": "execute_result"
    }
   ],
   "source": [
    "# mathametical operations can be performed\n",
    "tensor+tensor\n",
    "tensor *5"
   ]
  },
  {
   "cell_type": "code",
   "execution_count": 12,
   "id": "2b5fd98e",
   "metadata": {},
   "outputs": [
    {
     "data": {
      "text/plain": [
       "<tf.Tensor: shape=(3, 2), dtype=float32, numpy=\n",
       "array([[1., 4.],\n",
       "       [2., 5.],\n",
       "       [3., 6.]], dtype=float32)>"
      ]
     },
     "execution_count": 12,
     "metadata": {},
     "output_type": "execute_result"
    }
   ],
   "source": [
    "#transpose of tensor\n",
    "tf.transpose(tensor)"
   ]
  },
  {
   "cell_type": "code",
   "execution_count": 13,
   "id": "23aad7f9",
   "metadata": {},
   "outputs": [
    {
     "data": {
      "text/plain": [
       "<tf.Tensor: shape=(4, 3), dtype=float32, numpy=\n",
       "array([[1., 2., 3.],\n",
       "       [4., 5., 6.],\n",
       "       [1., 2., 3.],\n",
       "       [4., 5., 6.]], dtype=float32)>"
      ]
     },
     "execution_count": 13,
     "metadata": {},
     "output_type": "execute_result"
    }
   ],
   "source": [
    "tf.concat([tensor,tensor],axis=0)"
   ]
  },
  {
   "cell_type": "code",
   "execution_count": 18,
   "id": "4f978688",
   "metadata": {},
   "outputs": [
    {
     "data": {
      "text/plain": [
       "array([[1., 2., 3.],\n",
       "       [4., 5., 6.]], dtype=float32)"
      ]
     },
     "execution_count": 18,
     "metadata": {},
     "output_type": "execute_result"
    }
   ],
   "source": [
    "#to convert to numpy array\n",
    "tensor.numpy()\n",
    "np.array(tensor)"
   ]
  },
  {
   "cell_type": "code",
   "execution_count": 27,
   "id": "baf8a513",
   "metadata": {},
   "outputs": [],
   "source": [
    "a=tf.constant([[1,2],[3,4]],dtype=tf.float32)\n",
    "b=tf.constant([[-1,0],[1,-1]],dtype=tf.float32)"
   ]
  },
  {
   "cell_type": "code",
   "execution_count": 28,
   "id": "8b75fc95",
   "metadata": {},
   "outputs": [
    {
     "name": "stdout",
     "output_type": "stream",
     "text": [
      "tf.Tensor(\n",
      "[[0. 2.]\n",
      " [4. 3.]], shape=(2, 2), dtype=float32)\n",
      "tf.Tensor(\n",
      "[[2. 2.]\n",
      " [2. 5.]], shape=(2, 2), dtype=float32)\n",
      "tf.Tensor(\n",
      "[[-1.  0.]\n",
      " [ 3. -4.]], shape=(2, 2), dtype=float32)\n",
      "tf.Tensor(\n",
      "[[-1. inf]\n",
      " [ 3. -4.]], shape=(2, 2), dtype=float32)\n",
      "tf.Tensor(\n",
      "[[ 1. -2.]\n",
      " [ 1. -4.]], shape=(2, 2), dtype=float32)\n"
     ]
    }
   ],
   "source": [
    "#element wise addidtion subraction multiplication and matrix multiplication using@\n",
    "print(a+b)\n",
    "print(a-b)\n",
    "print(a*b)\n",
    "print(a/b)\n",
    "print(a@b)"
   ]
  },
  {
   "cell_type": "code",
   "execution_count": 29,
   "id": "fa55c8a4",
   "metadata": {},
   "outputs": [
    {
     "name": "stdout",
     "output_type": "stream",
     "text": [
      "tf.Tensor(4.0, shape=(), dtype=float32)\n",
      "tf.Tensor([1 1], shape=(2,), dtype=int64)\n",
      "tf.Tensor(\n",
      "[[0.26894143 0.7310586 ]\n",
      " [0.26894143 0.7310586 ]], shape=(2, 2), dtype=float32)\n"
     ]
    }
   ],
   "source": [
    "#to find largest value in tensor\n",
    "print(tf.reduce_max(a))\n",
    "#to find index of largest va;ue\n",
    "print(tf.math.argmax(a))\n",
    "#softmax\n",
    "print(tf.nn.softmax(a))"
   ]
  },
  {
   "cell_type": "code",
   "execution_count": 30,
   "id": "19fc0117",
   "metadata": {},
   "outputs": [
    {
     "name": "stdout",
     "output_type": "stream",
     "text": [
      "<dtype: 'float32'>\n",
      "2\n",
      "(2, 2)\n",
      "4\n"
     ]
    }
   ],
   "source": [
    "#attributes of a tensor\n",
    "print(a.dtype)\n",
    "print(a.ndim)#no of axis\n",
    "print(a.shape)\n",
    "print(tf.size(a).numpy())#total no of elements"
   ]
  },
  {
   "cell_type": "code",
   "execution_count": 32,
   "id": "e2357d87",
   "metadata": {},
   "outputs": [
    {
     "data": {
      "text/plain": [
       "array([1., 3.], dtype=float32)"
      ]
     },
     "execution_count": 32,
     "metadata": {},
     "output_type": "execute_result"
    }
   ],
   "source": [
    "#element wise access\n",
    "a[1,1].numpy()\n",
    "a[:,0].numpy()"
   ]
  },
  {
   "cell_type": "code",
   "execution_count": 34,
   "id": "8451daef",
   "metadata": {},
   "outputs": [
    {
     "name": "stdout",
     "output_type": "stream",
     "text": [
      "tf.Tensor([[1. 2. 3. 4.]], shape=(1, 4), dtype=float32)\n",
      "tf.Tensor(\n",
      "[[1.]\n",
      " [2.]\n",
      " [3.]\n",
      " [4.]], shape=(4, 1), dtype=float32)\n",
      "tf.Tensor([1. 2. 3. 4.], shape=(4,), dtype=float32)\n",
      "tf.Tensor([[1. 2. 3. 4.]], shape=(1, 4), dtype=float32)\n"
     ]
    }
   ],
   "source": [
    "#reshaping '-1' indicates wtever fits in\n",
    "print(tf.reshape(a,[1,4]))\n",
    "print(tf.reshape(a,[4,1]))\n",
    "print(tf.reshape(a,[-1]))\n",
    "print(tf.reshape(a,[1,-1]))"
   ]
  },
  {
   "cell_type": "code",
   "execution_count": 35,
   "id": "9f5e111f",
   "metadata": {},
   "outputs": [],
   "source": [
    "#broadcasting similar to numpy broadcasts tensors so that size are compatable\n",
    "c=tf.constant([2],dtype=tf.float32)"
   ]
  },
  {
   "cell_type": "code",
   "execution_count": 36,
   "id": "439ec264",
   "metadata": {},
   "outputs": [
    {
     "data": {
      "text/plain": [
       "<tf.Tensor: shape=(2, 2), dtype=float32, numpy=\n",
       "array([[2., 4.],\n",
       "       [6., 8.]], dtype=float32)>"
      ]
     },
     "execution_count": 36,
     "metadata": {},
     "output_type": "execute_result"
    }
   ],
   "source": [
    "a*c"
   ]
  },
  {
   "cell_type": "code",
   "execution_count": 41,
   "id": "9a561277",
   "metadata": {},
   "outputs": [
    {
     "data": {
      "text/plain": [
       "<tf.Tensor: shape=(4, 3), dtype=int32, numpy=\n",
       "array([[1, 2, 3],\n",
       "       [1, 2, 3],\n",
       "       [1, 2, 3],\n",
       "       [1, 2, 3]])>"
      ]
     },
     "execution_count": 41,
     "metadata": {},
     "output_type": "execute_result"
    }
   ],
   "source": [
    "#to check how broadcasting is working\n",
    "tf.broadcast_to(tf.constant([1,2,3]),[4,3])"
   ]
  },
  {
   "cell_type": "code",
   "execution_count": 45,
   "id": "e7915df3",
   "metadata": {},
   "outputs": [
    {
     "data": {
      "text/plain": [
       "<tf.RaggedTensor [[1, 2, 3], [1, 2], [1, 2, 3, 4, 5]]>"
      ]
     },
     "execution_count": 45,
     "metadata": {},
     "output_type": "execute_result"
    }
   ],
   "source": [
    "#ragged tensor: constant tensor has perfect dimension but when dimensions are different we use ragged tensor\n",
    "lst=[[1,2,3],[1,2],[1,2,3,4,5]]\n",
    "tf.ragged.constant(lst)"
   ]
  },
  {
   "cell_type": "code",
   "execution_count": 46,
   "id": "4e7ba7f4",
   "metadata": {},
   "outputs": [
    {
     "data": {
      "text/plain": [
       "TensorShape([3, None])"
      ]
     },
     "execution_count": 46,
     "metadata": {},
     "output_type": "execute_result"
    }
   ],
   "source": [
    "tf.ragged.constant(lst).shape\n"
   ]
  },
  {
   "cell_type": "code",
   "execution_count": 50,
   "id": "d2070f09",
   "metadata": {},
   "outputs": [
    {
     "data": {
      "text/plain": [
       "TensorShape([])"
      ]
     },
     "execution_count": 50,
     "metadata": {},
     "output_type": "execute_result"
    }
   ],
   "source": [
    "#tensors can be strings to\n",
    "tf.constant(\"hello world\").shape"
   ]
  },
  {
   "cell_type": "code",
   "execution_count": 51,
   "id": "3d6c21da",
   "metadata": {},
   "outputs": [
    {
     "data": {
      "text/plain": [
       "<tf.Tensor: shape=(2,), dtype=string, numpy=array([b'hello world', b'pussycat'], dtype=object)>"
      ]
     },
     "execution_count": 51,
     "metadata": {},
     "output_type": "execute_result"
    }
   ],
   "source": [
    "tf.constant([\"hello world\",'pussycat'])"
   ]
  },
  {
   "cell_type": "code",
   "execution_count": 56,
   "id": "d701b78d",
   "metadata": {},
   "outputs": [],
   "source": [
    "#sparse matrix only some positions are filled with values\n",
    "sp=tf.sparse.SparseTensor(indices=[[1,1],[3,2]],values=[15,2],dense_shape=[5,5])"
   ]
  },
  {
   "cell_type": "code",
   "execution_count": 57,
   "id": "8550f683",
   "metadata": {},
   "outputs": [
    {
     "data": {
      "text/plain": [
       "<tf.Tensor: shape=(5, 5), dtype=int32, numpy=\n",
       "array([[ 0,  0,  0,  0,  0],\n",
       "       [ 0, 15,  0,  0,  0],\n",
       "       [ 0,  0,  0,  0,  0],\n",
       "       [ 0,  0,  2,  0,  0],\n",
       "       [ 0,  0,  0,  0,  0]])>"
      ]
     },
     "execution_count": 57,
     "metadata": {},
     "output_type": "execute_result"
    }
   ],
   "source": [
    "tf.sparse.to_dense(sp)"
   ]
  },
  {
   "cell_type": "code",
   "execution_count": null,
   "id": "afe241d7",
   "metadata": {},
   "outputs": [],
   "source": []
  }
 ],
 "metadata": {
  "kernelspec": {
   "display_name": "Python 3 (ipykernel)",
   "language": "python",
   "name": "python3"
  },
  "language_info": {
   "codemirror_mode": {
    "name": "ipython",
    "version": 3
   },
   "file_extension": ".py",
   "mimetype": "text/x-python",
   "name": "python",
   "nbconvert_exporter": "python",
   "pygments_lexer": "ipython3",
   "version": "3.9.7"
  }
 },
 "nbformat": 4,
 "nbformat_minor": 5
}
